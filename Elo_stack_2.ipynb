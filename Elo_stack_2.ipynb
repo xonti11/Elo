{
 "cells": [
  {
   "cell_type": "code",
   "execution_count": null,
   "metadata": {},
   "outputs": [],
   "source": [
    "import numpy as np\n",
    "import pandas as pd\n",
    "import datetime\n",
    "import gc\n",
    "import matplotlib.pyplot as plt\n",
    "import seaborn as sns\n",
    "import lightgbm as lgb\n",
    "from sklearn.model_selection import StratifiedKFold\n",
    "from sklearn.metrics import mean_squared_error\n",
    "import os\n",
    "import warnings\n",
    "warnings.filterwarnings('ignore')\n",
    "print(os.listdir('../input/elo-stack-1'))"
   ]
  },
  {
   "cell_type": "code",
   "execution_count": null,
   "metadata": {},
   "outputs": [],
   "source": [
    "path='../input/elo-merchant-category-recommendation/'\n",
    "df_train=pd.read_csv(os.path.join(path,'train.csv'))\n",
    "df_test=pd.read_csv(os.path.join(path,'test.csv'))\n",
    "path='../input/elo-classification-2'\n",
    "prob_train=pd.read_csv(os.path.join(path,'prediction_PROB_LGB_half_0.9.csv'))\n",
    "prob_test=pd.read_csv(os.path.join(path,'submission_PROB_LGB_half_0.9.csv'))\n",
    "# path='../input/elo-regression-1'\n",
    "# rmse_train=pd.read_csv(os.path.join(path,'prediction_LGB_full_3.64544.csv'))\n",
    "# rmse_test=pd.read_csv(os.path.join(path,'submission_LGB_full_3.64544.csv'))\n",
    "path='../input/elo-stack-1'\n",
    "rmse_train=pd.read_csv(os.path.join(path,'prediction.csv'))\n",
    "rmse_test=pd.read_csv(os.path.join(path,'submission.csv'))\n",
    "path='../input/elo-regression-4'\n",
    "cut_rmse_train=pd.read_csv(os.path.join(path,'prediction_LGB_full_3.8.csv'))\n",
    "cut_rmse_test=pd.read_csv(os.path.join(path,'submission_LGB_full_3.8.csv'))\n",
    "prediction_train=pd.DataFrame({'target':df_train['target'].values,'prob':prob_train['target'].values,'rmse':rmse_train['target'].values,'rmse_cut':cut_rmse_train['target'].values})\n",
    "prediction_test=pd.DataFrame({'prob':prob_test['target'].values,'rmse':rmse_test['target'].values,'rmse_cut':cut_rmse_test['target'].values})"
   ]
  },
  {
   "cell_type": "code",
   "execution_count": null,
   "metadata": {},
   "outputs": [],
   "source": [
    "df_train['outliers']=0\n",
    "df_train.loc[df_train['target']<-30,'outliers']=1\n",
    "rskf=StratifiedKFold(5,shuffle=True)\n",
    "val_pr=np.zeros(len(df_train))\n",
    "itog=[]\n",
    "for train_index,val_index in rskf.split(df_train,df_train['outliers'].values):\n",
    "    thresholds = []\n",
    "    for thresh in np.arange(0.01, 1, 0.01):\n",
    "        thresh = np.round(thresh, 2)\n",
    "        pr=np.where(prediction_train['prob'].loc[val_index]>thresh,prediction_train['rmse'].loc[val_index],prediction_train['rmse_cut'].loc[val_index])\n",
    "        res = np.sqrt(mean_squared_error(pr,prediction_train['target'].loc[val_index].values))\n",
    "        thresholds.append([thresh, res])\n",
    "    thresholds.sort(key=lambda x: x[1], reverse=False)\n",
    "    best_thresh = thresholds[0][0]\n",
    "    itog.append(best_thresh)\n",
    "np.sqrt(mean_squared_error(np.where(prediction_train['prob']>np.mean(itog),prediction_train['rmse'],prediction_train['rmse_cut']),prediction_train['target'].values))"
   ]
  },
  {
   "cell_type": "code",
   "execution_count": null,
   "metadata": {},
   "outputs": [],
   "source": [
    "test_pr=np.where(prediction_test['prob']>np.mean(itog),prediction_test['rmse'],prediction_test['rmse_cut'])\n",
    "sub_df=pd.DataFrame({'card_id':df_test['card_id'].values})\n",
    "sub_df['target']=test_pr\n",
    "sub_df.to_csv(\"submission.csv\", index=False)"
   ]
  }
 ],
 "metadata": {
  "kernelspec": {
   "display_name": "Python 3",
   "language": "python",
   "name": "python3"
  },
  "language_info": {
   "codemirror_mode": {
    "name": "ipython",
    "version": 3
   },
   "file_extension": ".py",
   "mimetype": "text/x-python",
   "name": "python",
   "nbconvert_exporter": "python",
   "pygments_lexer": "ipython3",
   "version": "3.6.5"
  }
 },
 "nbformat": 4,
 "nbformat_minor": 2
}
